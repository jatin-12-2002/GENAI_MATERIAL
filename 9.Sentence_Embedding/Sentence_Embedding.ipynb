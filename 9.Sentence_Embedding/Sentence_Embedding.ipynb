{
  "nbformat": 4,
  "nbformat_minor": 0,
  "metadata": {
    "colab": {
      "provenance": []
    },
    "kernelspec": {
      "name": "python3",
      "display_name": "Python 3"
    },
    "language_info": {
      "name": "python"
    }
  },
  "cells": [
    {
      "cell_type": "code",
      "execution_count": 42,
      "metadata": {
        "colab": {
          "base_uri": "https://localhost:8080/"
        },
        "id": "7ZBQpg5xL4lA",
        "outputId": "ac6348e8-b259-4b36-a23d-992ff4d65acd"
      },
      "outputs": [
        {
          "output_type": "stream",
          "name": "stdout",
          "text": [
            "Requirement already satisfied: transformers in /usr/local/lib/python3.10/dist-packages (4.42.4)\n",
            "Requirement already satisfied: filelock in /usr/local/lib/python3.10/dist-packages (from transformers) (3.15.4)\n",
            "Requirement already satisfied: huggingface-hub<1.0,>=0.23.2 in /usr/local/lib/python3.10/dist-packages (from transformers) (0.23.5)\n",
            "Requirement already satisfied: numpy<2.0,>=1.17 in /usr/local/lib/python3.10/dist-packages (from transformers) (1.25.2)\n",
            "Requirement already satisfied: packaging>=20.0 in /usr/local/lib/python3.10/dist-packages (from transformers) (24.1)\n",
            "Requirement already satisfied: pyyaml>=5.1 in /usr/local/lib/python3.10/dist-packages (from transformers) (6.0.1)\n",
            "Requirement already satisfied: regex!=2019.12.17 in /usr/local/lib/python3.10/dist-packages (from transformers) (2024.5.15)\n",
            "Requirement already satisfied: requests in /usr/local/lib/python3.10/dist-packages (from transformers) (2.31.0)\n",
            "Requirement already satisfied: safetensors>=0.4.1 in /usr/local/lib/python3.10/dist-packages (from transformers) (0.4.3)\n",
            "Requirement already satisfied: tokenizers<0.20,>=0.19 in /usr/local/lib/python3.10/dist-packages (from transformers) (0.19.1)\n",
            "Requirement already satisfied: tqdm>=4.27 in /usr/local/lib/python3.10/dist-packages (from transformers) (4.66.4)\n",
            "Requirement already satisfied: fsspec>=2023.5.0 in /usr/local/lib/python3.10/dist-packages (from huggingface-hub<1.0,>=0.23.2->transformers) (2023.6.0)\n",
            "Requirement already satisfied: typing-extensions>=3.7.4.3 in /usr/local/lib/python3.10/dist-packages (from huggingface-hub<1.0,>=0.23.2->transformers) (4.12.2)\n",
            "Requirement already satisfied: charset-normalizer<4,>=2 in /usr/local/lib/python3.10/dist-packages (from requests->transformers) (3.3.2)\n",
            "Requirement already satisfied: idna<4,>=2.5 in /usr/local/lib/python3.10/dist-packages (from requests->transformers) (3.7)\n",
            "Requirement already satisfied: urllib3<3,>=1.21.1 in /usr/local/lib/python3.10/dist-packages (from requests->transformers) (2.0.7)\n",
            "Requirement already satisfied: certifi>=2017.4.17 in /usr/local/lib/python3.10/dist-packages (from requests->transformers) (2024.7.4)\n"
          ]
        }
      ],
      "source": [
        "!pip install transformers"
      ]
    },
    {
      "cell_type": "code",
      "source": [
        "import torch"
      ],
      "metadata": {
        "id": "baOlQvUTM3ji"
      },
      "execution_count": 43,
      "outputs": []
    },
    {
      "cell_type": "code",
      "source": [
        "from transformers import BertTokenizer, BertModel"
      ],
      "metadata": {
        "id": "S1LPJbuTNyw_"
      },
      "execution_count": 44,
      "outputs": []
    },
    {
      "cell_type": "code",
      "source": [
        "import random"
      ],
      "metadata": {
        "id": "MnZ8kXCaN8lh"
      },
      "execution_count": 45,
      "outputs": []
    },
    {
      "cell_type": "code",
      "source": [
        "from sklearn.metrics.pairwise import cosine_similarity"
      ],
      "metadata": {
        "id": "aw3OhlIbN-vO"
      },
      "execution_count": 46,
      "outputs": []
    },
    {
      "cell_type": "code",
      "source": [
        "random_seed=42"
      ],
      "metadata": {
        "id": "WgxBwh7sOdG5"
      },
      "execution_count": 47,
      "outputs": []
    },
    {
      "cell_type": "code",
      "source": [
        "random.seed(random_seed)"
      ],
      "metadata": {
        "id": "IQ4MFWt4OgYr"
      },
      "execution_count": 48,
      "outputs": []
    },
    {
      "cell_type": "code",
      "source": [
        "torch.manual_seed(random_seed)"
      ],
      "metadata": {
        "colab": {
          "base_uri": "https://localhost:8080/"
        },
        "id": "uzMltVmgOwFv",
        "outputId": "e1ad91ea-5fa2-48e9-c4a8-a68d9131b799"
      },
      "execution_count": 49,
      "outputs": [
        {
          "output_type": "execute_result",
          "data": {
            "text/plain": [
              "<torch._C.Generator at 0x786380125270>"
            ]
          },
          "metadata": {},
          "execution_count": 49
        }
      ]
    },
    {
      "cell_type": "code",
      "source": [
        "if torch.cuda.is_available():\n",
        "  torch.cuda.manual_seed_all(random_seed)"
      ],
      "metadata": {
        "id": "sc1FxEJuOHEL"
      },
      "execution_count": 50,
      "outputs": []
    },
    {
      "cell_type": "code",
      "source": [
        "tokenizer=BertTokenizer.from_pretrained(\"bert-base-uncased\")"
      ],
      "metadata": {
        "id": "B2NGxTApOtTJ"
      },
      "execution_count": 51,
      "outputs": []
    },
    {
      "cell_type": "code",
      "source": [
        "model=BertModel.from_pretrained(\"bert-base-uncased\")"
      ],
      "metadata": {
        "id": "pH2nl2ykPP7m"
      },
      "execution_count": 52,
      "outputs": []
    },
    {
      "cell_type": "code",
      "source": [
        "model"
      ],
      "metadata": {
        "colab": {
          "base_uri": "https://localhost:8080/"
        },
        "id": "qd9oSf-NPwOu",
        "outputId": "3becdc68-4928-4d77-874a-30c7364a9a88"
      },
      "execution_count": 53,
      "outputs": [
        {
          "output_type": "execute_result",
          "data": {
            "text/plain": [
              "BertModel(\n",
              "  (embeddings): BertEmbeddings(\n",
              "    (word_embeddings): Embedding(30522, 768, padding_idx=0)\n",
              "    (position_embeddings): Embedding(512, 768)\n",
              "    (token_type_embeddings): Embedding(2, 768)\n",
              "    (LayerNorm): LayerNorm((768,), eps=1e-12, elementwise_affine=True)\n",
              "    (dropout): Dropout(p=0.1, inplace=False)\n",
              "  )\n",
              "  (encoder): BertEncoder(\n",
              "    (layer): ModuleList(\n",
              "      (0-11): 12 x BertLayer(\n",
              "        (attention): BertAttention(\n",
              "          (self): BertSdpaSelfAttention(\n",
              "            (query): Linear(in_features=768, out_features=768, bias=True)\n",
              "            (key): Linear(in_features=768, out_features=768, bias=True)\n",
              "            (value): Linear(in_features=768, out_features=768, bias=True)\n",
              "            (dropout): Dropout(p=0.1, inplace=False)\n",
              "          )\n",
              "          (output): BertSelfOutput(\n",
              "            (dense): Linear(in_features=768, out_features=768, bias=True)\n",
              "            (LayerNorm): LayerNorm((768,), eps=1e-12, elementwise_affine=True)\n",
              "            (dropout): Dropout(p=0.1, inplace=False)\n",
              "          )\n",
              "        )\n",
              "        (intermediate): BertIntermediate(\n",
              "          (dense): Linear(in_features=768, out_features=3072, bias=True)\n",
              "          (intermediate_act_fn): GELUActivation()\n",
              "        )\n",
              "        (output): BertOutput(\n",
              "          (dense): Linear(in_features=3072, out_features=768, bias=True)\n",
              "          (LayerNorm): LayerNorm((768,), eps=1e-12, elementwise_affine=True)\n",
              "          (dropout): Dropout(p=0.1, inplace=False)\n",
              "        )\n",
              "      )\n",
              "    )\n",
              "  )\n",
              "  (pooler): BertPooler(\n",
              "    (dense): Linear(in_features=768, out_features=768, bias=True)\n",
              "    (activation): Tanh()\n",
              "  )\n",
              ")"
            ]
          },
          "metadata": {},
          "execution_count": 53
        }
      ]
    },
    {
      "cell_type": "code",
      "source": [
        "text=\"ineuron is for the best AI Courses.\"\n",
        "text2=\"sunny savita is a mentor of genai course.\""
      ],
      "metadata": {
        "id": "eexgPcuDPfWT"
      },
      "execution_count": 54,
      "outputs": []
    },
    {
      "cell_type": "code",
      "source": [
        "encoding=tokenizer.batch_encode_plus([text,text2],padding=True,truncation=True,return_tensors=\"pt\",add_special_tokens=True)"
      ],
      "metadata": {
        "id": "qTYaDLdTQGix"
      },
      "execution_count": 55,
      "outputs": []
    },
    {
      "cell_type": "code",
      "source": [
        "input_ids=encoding[\"input_ids\"]"
      ],
      "metadata": {
        "id": "9u2JmTnBQ25P"
      },
      "execution_count": 56,
      "outputs": []
    },
    {
      "cell_type": "code",
      "source": [
        "input_ids"
      ],
      "metadata": {
        "colab": {
          "base_uri": "https://localhost:8080/"
        },
        "id": "WwlrZMMt7Isy",
        "outputId": "c8128964-078b-4b3f-e6ac-b16c21d13347"
      },
      "execution_count": 57,
      "outputs": [
        {
          "output_type": "execute_result",
          "data": {
            "text/plain": [
              "tensor([[  101,  1999, 11236,  2239,  2003,  2005,  1996,  2190,  9932,  5352,\n",
              "          1012,   102,     0],\n",
              "        [  101, 11559,  7842, 28403,  2003,  1037, 10779,  1997,  8991,  4886,\n",
              "          2607,  1012,   102]])"
            ]
          },
          "metadata": {},
          "execution_count": 57
        }
      ]
    },
    {
      "cell_type": "code",
      "source": [
        "attention_mask=encoding[\"attention_mask\"]"
      ],
      "metadata": {
        "id": "QYumrRinR2De"
      },
      "execution_count": 58,
      "outputs": []
    },
    {
      "cell_type": "code",
      "source": [
        "attention_mask"
      ],
      "metadata": {
        "colab": {
          "base_uri": "https://localhost:8080/"
        },
        "id": "ki36PwXaTSAv",
        "outputId": "08d41d18-e92f-4931-82e1-791c00d7d1d3"
      },
      "execution_count": 59,
      "outputs": [
        {
          "output_type": "execute_result",
          "data": {
            "text/plain": [
              "tensor([[1, 1, 1, 1, 1, 1, 1, 1, 1, 1, 1, 1, 0],\n",
              "        [1, 1, 1, 1, 1, 1, 1, 1, 1, 1, 1, 1, 1]])"
            ]
          },
          "metadata": {},
          "execution_count": 59
        }
      ]
    },
    {
      "cell_type": "code",
      "source": [
        "with torch.no_grad():\n",
        "  outputs=model(input_ids, attention_mask=attention_mask)\n",
        "  word_embeddings=outputs.last_hidden_state"
      ],
      "metadata": {
        "id": "XsayItQqSEr3"
      },
      "execution_count": 60,
      "outputs": []
    },
    {
      "cell_type": "code",
      "source": [
        "word_embeddings.shape"
      ],
      "metadata": {
        "colab": {
          "base_uri": "https://localhost:8080/"
        },
        "id": "cCYo20tIS25j",
        "outputId": "97102a08-7599-46fd-9908-c7b511b769ad"
      },
      "execution_count": 61,
      "outputs": [
        {
          "output_type": "execute_result",
          "data": {
            "text/plain": [
              "torch.Size([2, 13, 768])"
            ]
          },
          "metadata": {},
          "execution_count": 61
        }
      ]
    },
    {
      "cell_type": "code",
      "source": [
        "word_embeddings"
      ],
      "metadata": {
        "colab": {
          "base_uri": "https://localhost:8080/"
        },
        "id": "_OvLR917S5XH",
        "outputId": "a9a51d19-9b2e-47a3-8d38-54cd8c54723c"
      },
      "execution_count": 62,
      "outputs": [
        {
          "output_type": "execute_result",
          "data": {
            "text/plain": [
              "tensor([[[-4.2705e-01, -1.6661e-01,  1.9086e-01,  ..., -2.9867e-01,\n",
              "           6.3564e-01,  6.9628e-01],\n",
              "         [-4.5551e-01, -5.8428e-01,  3.3123e-01,  ..., -1.4749e-01,\n",
              "           5.6046e-01,  1.2290e+00],\n",
              "         [-7.1737e-01, -4.1263e-01,  1.0531e+00,  ...,  3.0627e-01,\n",
              "           3.9835e-01,  2.6603e-01],\n",
              "         ...,\n",
              "         [ 5.1638e-01,  1.5779e-01, -7.2684e-02,  ...,  2.1025e-01,\n",
              "          -4.6511e-01, -2.4941e-01],\n",
              "         [ 2.9626e-01,  2.9635e-01,  2.6037e-01,  ...,  3.1854e-01,\n",
              "          -6.8196e-01, -1.1987e-01],\n",
              "         [-3.3972e-01, -2.1031e-04,  1.9611e-01,  ...,  1.7365e-01,\n",
              "           9.6430e-02,  3.9116e-01]],\n",
              "\n",
              "        [[-5.9909e-01, -7.7465e-02, -5.5465e-02,  ..., -1.6245e-01,\n",
              "           4.0960e-01,  2.1757e-01],\n",
              "         [ 9.7091e-02, -2.4665e-01, -4.4398e-01,  ..., -1.8114e-01,\n",
              "           7.5230e-01, -4.2935e-01],\n",
              "         [ 2.2273e-01, -4.8634e-01, -5.8741e-01,  ..., -4.2234e-01,\n",
              "           2.2519e-01, -3.1184e-01],\n",
              "         ...,\n",
              "         [ 4.5262e-01, -6.9710e-01,  5.3669e-01,  ...,  1.4930e-02,\n",
              "          -1.0651e-02, -4.8585e-01],\n",
              "         [ 6.6591e-01, -7.0177e-02, -1.0018e-01,  ...,  3.0254e-01,\n",
              "          -4.3412e-01, -4.3747e-01],\n",
              "         [ 4.9191e-01,  9.9681e-02,  2.8753e-02,  ...,  3.8323e-01,\n",
              "          -4.5446e-01, -4.7049e-01]]])"
            ]
          },
          "metadata": {},
          "execution_count": 62
        }
      ]
    },
    {
      "cell_type": "code",
      "source": [
        "input_ids[0]"
      ],
      "metadata": {
        "colab": {
          "base_uri": "https://localhost:8080/"
        },
        "id": "x_8HCjCJS-Kr",
        "outputId": "b28ffd0c-7e0a-4d74-ff2b-bb2cdfafe66d"
      },
      "execution_count": 63,
      "outputs": [
        {
          "output_type": "execute_result",
          "data": {
            "text/plain": [
              "tensor([  101,  1999, 11236,  2239,  2003,  2005,  1996,  2190,  9932,  5352,\n",
              "         1012,   102,     0])"
            ]
          },
          "metadata": {},
          "execution_count": 63
        }
      ]
    },
    {
      "cell_type": "code",
      "source": [
        "decode=tokenizer.decode(input_ids[0],skip_special_tokens=True)"
      ],
      "metadata": {
        "id": "elScpFeITprQ"
      },
      "execution_count": 64,
      "outputs": []
    },
    {
      "cell_type": "code",
      "source": [
        "decode"
      ],
      "metadata": {
        "colab": {
          "base_uri": "https://localhost:8080/",
          "height": 35
        },
        "id": "6XSArd_qTza3",
        "outputId": "5b025456-60c3-4708-e94c-f47e58492703"
      },
      "execution_count": 65,
      "outputs": [
        {
          "output_type": "execute_result",
          "data": {
            "text/plain": [
              "'ineuron is for the best ai courses.'"
            ],
            "application/vnd.google.colaboratory.intrinsic+json": {
              "type": "string"
            }
          },
          "metadata": {},
          "execution_count": 65
        }
      ]
    },
    {
      "cell_type": "code",
      "source": [
        "decode=tokenizer.decode(input_ids[1],skip_special_tokens=True)"
      ],
      "metadata": {
        "id": "oBJzm-mWUAsz"
      },
      "execution_count": 66,
      "outputs": []
    },
    {
      "cell_type": "code",
      "source": [
        "decode"
      ],
      "metadata": {
        "colab": {
          "base_uri": "https://localhost:8080/",
          "height": 35
        },
        "id": "F-Jhwt-g74oF",
        "outputId": "9014f042-16c1-44cc-cae2-419f1ae251d3"
      },
      "execution_count": 67,
      "outputs": [
        {
          "output_type": "execute_result",
          "data": {
            "text/plain": [
              "'sunny savita is a mentor of genai course.'"
            ],
            "application/vnd.google.colaboratory.intrinsic+json": {
              "type": "string"
            }
          },
          "metadata": {},
          "execution_count": 67
        }
      ]
    },
    {
      "cell_type": "code",
      "source": [],
      "metadata": {
        "id": "tFvyIDHb75zA"
      },
      "execution_count": 67,
      "outputs": []
    }
  ]
}