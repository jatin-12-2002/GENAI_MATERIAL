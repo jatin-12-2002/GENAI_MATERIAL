{
 "cells": [
  {
   "cell_type": "code",
   "execution_count": 1,
   "id": "34a6ade4",
   "metadata": {},
   "outputs": [
    {
     "name": "stderr",
     "output_type": "stream",
     "text": [
      "/workspaces/Automated_MCQ_Generator/env/lib/python3.10/site-packages/tqdm/auto.py:21: TqdmWarning: IProgress not found. Please update jupyter and ipywidgets. See https://ipywidgets.readthedocs.io/en/stable/user_install.html\n",
      "  from .autonotebook import tqdm as notebook_tqdm\n"
     ]
    }
   ],
   "source": [
    "from langchain_google_genai import GoogleGenerativeAI\n",
    "from langchain.prompts import PromptTemplate\n",
    "from langchain.chains import LLMChain\n",
    "from langchain.chains import SequentialChain\n",
    "from langchain.callbacks import get_openai_callback\n",
    "import os\n",
    "import json\n",
    "import pandas as pd\n",
    "import traceback\n",
    "from dotenv import load_dotenv\n",
    "import PyPDF2\n"
   ]
  },
  {
   "cell_type": "code",
   "execution_count": 2,
   "id": "f9ca3f5f",
   "metadata": {},
   "outputs": [
    {
     "data": {
      "text/plain": [
       "True"
      ]
     },
     "execution_count": 2,
     "metadata": {},
     "output_type": "execute_result"
    }
   ],
   "source": [
    "load_dotenv()"
   ]
  },
  {
   "cell_type": "code",
   "execution_count": 3,
   "id": "ac24d917",
   "metadata": {},
   "outputs": [],
   "source": [
    "key = os.getenv(\"GOOGLE_API_KEY\")"
   ]
  },
  {
   "cell_type": "code",
   "execution_count": 4,
   "id": "9ebcf213",
   "metadata": {},
   "outputs": [],
   "source": [
    "llm = GoogleGenerativeAI(google_api_key=key,model=\"gemini-1.0-pro\")"
   ]
  },
  {
   "cell_type": "code",
   "execution_count": 5,
   "id": "7a728920",
   "metadata": {},
   "outputs": [
    {
     "data": {
      "text/plain": [
       "GoogleGenerativeAI(model='gemini-1.0-pro', google_api_key=SecretStr('**********'), client=genai.GenerativeModel(\n",
       "    model_name='models/gemini-1.0-pro',\n",
       "    generation_config={},\n",
       "    safety_settings={},\n",
       "    tools=None,\n",
       "    system_instruction=None,\n",
       "    cached_content=None\n",
       "))"
      ]
     },
     "execution_count": 5,
     "metadata": {},
     "output_type": "execute_result"
    }
   ],
   "source": [
    "llm"
   ]
  },
  {
   "cell_type": "code",
   "execution_count": 6,
   "id": "09a6a117",
   "metadata": {},
   "outputs": [],
   "source": [
    "RESPONSE_JSON = {\n",
    "    \"1\": {\n",
    "        \"mcq\": \"multiple choice question\",\n",
    "        \"options\": {\n",
    "            \"a\": \"choice here\",\n",
    "            \"b\": \"choice here\",\n",
    "            \"c\": \"choice here\",\n",
    "            \"d\": \"choice here\",\n",
    "        },\n",
    "        \"correct\": \"correct answer\",\n",
    "    },\n",
    "    \"2\": {\n",
    "        \"mcq\": \"multiple choice question\",\n",
    "        \"options\": {\n",
    "            \"a\": \"choice here\",\n",
    "            \"b\": \"choice here\",\n",
    "            \"c\": \"choice here\",\n",
    "            \"d\": \"choice here\",\n",
    "        },\n",
    "        \"correct\": \"correct answer\",\n",
    "    },\n",
    "    \"3\": {\n",
    "        \"mcq\": \"multiple choice question\",\n",
    "        \"options\": {\n",
    "            \"a\": \"choice here\",\n",
    "            \"b\": \"choice here\",\n",
    "            \"c\": \"choice here\",\n",
    "            \"d\": \"choice here\",\n",
    "        },\n",
    "        \"correct\": \"correct answer\",\n",
    "    },\n",
    "}\n"
   ]
  },
  {
   "cell_type": "code",
   "execution_count": 7,
   "id": "b600aa4c",
   "metadata": {},
   "outputs": [
    {
     "data": {
      "text/plain": [
       "'\\nnumber=5 \\nsubject=\"data science\"\\ntone=\"simple\"\\n'"
      ]
     },
     "execution_count": 7,
     "metadata": {},
     "output_type": "execute_result"
    }
   ],
   "source": [
    "\"\"\"\n",
    "number=5 \n",
    "subject=\"data science\"\n",
    "tone=\"simple\"\n",
    "\"\"\""
   ]
  },
  {
   "cell_type": "code",
   "execution_count": 8,
   "id": "619fa64e",
   "metadata": {},
   "outputs": [],
   "source": [
    "TEMPLATE=\"\"\"\n",
    "Text:{text}\n",
    "You are an expert MCQ maker. Given the above text, it is your job to \\\n",
    "create a quiz  of {number} multiple choice questions for {subject} students in {tone} tone. \n",
    "Make sure the questions are not repeated and check all the questions to be conforming the text as well.\n",
    "Make sure to format your response like  RESPONSE_JSON below  and use it as a guide. \\\n",
    "Ensure to make {number} MCQs\n",
    "### RESPONSE_JSON\n",
    "{response_json}\n",
    "\n",
    "\"\"\""
   ]
  },
  {
   "cell_type": "code",
   "execution_count": 9,
   "id": "d27b1155",
   "metadata": {},
   "outputs": [],
   "source": [
    "quiz_generation_prompt = PromptTemplate(\n",
    "    input_variables=[\"text\", \"number\", \"subject\", \"tone\", \"response_json\"],\n",
    "    template=TEMPLATE\n",
    "    )\n"
   ]
  },
  {
   "cell_type": "code",
   "execution_count": 10,
   "id": "6a096a72",
   "metadata": {},
   "outputs": [
    {
     "data": {
      "text/plain": [
       "PromptTemplate(input_variables=['number', 'response_json', 'subject', 'text', 'tone'], template='\\nText:{text}\\nYou are an expert MCQ maker. Given the above text, it is your job to create a quiz  of {number} multiple choice questions for {subject} students in {tone} tone. \\nMake sure the questions are not repeated and check all the questions to be conforming the text as well.\\nMake sure to format your response like  RESPONSE_JSON below  and use it as a guide. Ensure to make {number} MCQs\\n### RESPONSE_JSON\\n{response_json}\\n\\n')"
      ]
     },
     "execution_count": 10,
     "metadata": {},
     "output_type": "execute_result"
    }
   ],
   "source": [
    "quiz_generation_prompt"
   ]
  },
  {
   "cell_type": "code",
   "execution_count": 11,
   "id": "3dfef61b",
   "metadata": {},
   "outputs": [
    {
     "name": "stderr",
     "output_type": "stream",
     "text": [
      "/workspaces/Automated_MCQ_Generator/env/lib/python3.10/site-packages/langchain_core/_api/deprecation.py:139: LangChainDeprecationWarning: The class `LLMChain` was deprecated in LangChain 0.1.17 and will be removed in 1.0. Use RunnableSequence, e.g., `prompt | llm` instead.\n",
      "  warn_deprecated(\n"
     ]
    }
   ],
   "source": [
    "quiz_chain=LLMChain(llm=llm, prompt=quiz_generation_prompt, output_key=\"quiz\", verbose=True)"
   ]
  },
  {
   "cell_type": "code",
   "execution_count": 12,
   "id": "4f7870d2",
   "metadata": {},
   "outputs": [
    {
     "data": {
      "text/plain": [
       "LLMChain(verbose=True, prompt=PromptTemplate(input_variables=['number', 'response_json', 'subject', 'text', 'tone'], template='\\nText:{text}\\nYou are an expert MCQ maker. Given the above text, it is your job to create a quiz  of {number} multiple choice questions for {subject} students in {tone} tone. \\nMake sure the questions are not repeated and check all the questions to be conforming the text as well.\\nMake sure to format your response like  RESPONSE_JSON below  and use it as a guide. Ensure to make {number} MCQs\\n### RESPONSE_JSON\\n{response_json}\\n\\n'), llm=GoogleGenerativeAI(model='gemini-1.0-pro', google_api_key=SecretStr('**********'), client=genai.GenerativeModel(\n",
       "    model_name='models/gemini-1.0-pro',\n",
       "    generation_config={},\n",
       "    safety_settings={},\n",
       "    tools=None,\n",
       "    system_instruction=None,\n",
       "    cached_content=None\n",
       ")), output_key='quiz')"
      ]
     },
     "execution_count": 12,
     "metadata": {},
     "output_type": "execute_result"
    }
   ],
   "source": [
    "quiz_chain"
   ]
  },
  {
   "cell_type": "code",
   "execution_count": 13,
   "id": "d6312a8e",
   "metadata": {},
   "outputs": [],
   "source": [
    "TEMPLATE2=\"\"\"\n",
    "You are an expert english grammarian and writer. Given a Multiple Choice Quiz for {subject} students.\\\n",
    "You need to evaluate the complexity of the question and give a complete analysis of the quiz. Only use at max 50 words for complexity analysis. \n",
    "if the quiz is not at per with the cognitive and analytical abilities of the students,\\\n",
    "update the quiz questions which needs to be changed and change the tone such that it perfectly fits the student abilities\n",
    "Quiz_MCQs:\n",
    "{quiz}\n",
    "\n",
    "Check from an expert English Writer of the above quiz:\n",
    "\"\"\""
   ]
  },
  {
   "cell_type": "code",
   "execution_count": 14,
   "id": "f28f18d4",
   "metadata": {},
   "outputs": [],
   "source": [
    "quiz_evaluation_prompt=PromptTemplate(input_variables=[\"subject\", \"quiz\"], template=TEMPLATE2)"
   ]
  },
  {
   "cell_type": "code",
   "execution_count": 15,
   "id": "31f7e038",
   "metadata": {},
   "outputs": [],
   "source": [
    "review_chain=LLMChain(llm=llm, prompt=quiz_evaluation_prompt, output_key=\"review\", verbose=True)"
   ]
  },
  {
   "cell_type": "code",
   "execution_count": 16,
   "id": "961aea16",
   "metadata": {},
   "outputs": [],
   "source": [
    "generate_evaluate_chain=SequentialChain(chains=[quiz_chain, review_chain], input_variables=[\"text\", \"number\", \"subject\", \"tone\", \"response_json\"],\n",
    "                                        output_variables=[\"quiz\", \"review\"], verbose=True,)"
   ]
  },
  {
   "cell_type": "code",
   "execution_count": 17,
   "id": "8e683596",
   "metadata": {},
   "outputs": [
    {
     "data": {
      "text/plain": [
       "'pdf_reader=PyPDF2.PdfReader(r\"C:\\\\Complete_Content\\\\All_Project\\\\TEST_FOR_EVERYTHING\\\\langchain\\\\experiments\\\\Big Data Assessment.pdf\")\\ntext = \"\"\\nfor page in pdf_reader.pages:\\n    text += page.extract_text()'"
      ]
     },
     "execution_count": 17,
     "metadata": {},
     "output_type": "execute_result"
    }
   ],
   "source": [
    "\"\"\"pdf_reader=PyPDF2.PdfReader(r\"C:\\Complete_Content\\All_Project\\TEST_FOR_EVERYTHING\\langchain\\experiments\\Big Data Assessment.pdf\")\n",
    "text = \"\"\n",
    "for page in pdf_reader.pages:\n",
    "    text += page.extract_text()\"\"\""
   ]
  },
  {
   "cell_type": "code",
   "execution_count": 18,
   "id": "5a50d1c5",
   "metadata": {},
   "outputs": [],
   "source": [
    "from pathlib import Path\n",
    "file_path=r\"/workspaces/Automated_MCQ_Generator/test.txt\""
   ]
  },
  {
   "cell_type": "code",
   "execution_count": 19,
   "id": "9e24e9d3",
   "metadata": {},
   "outputs": [
    {
     "data": {
      "text/plain": [
       "'/workspaces/Automated_MCQ_Generator/test.txt'"
      ]
     },
     "execution_count": 19,
     "metadata": {},
     "output_type": "execute_result"
    }
   ],
   "source": [
    "file_path"
   ]
  },
  {
   "cell_type": "code",
   "execution_count": 20,
   "id": "e961afa2",
   "metadata": {},
   "outputs": [],
   "source": [
    "with open(file_path, 'r') as file:\n",
    "    TEXT = file.read()"
   ]
  },
  {
   "cell_type": "code",
   "execution_count": 21,
   "id": "ed73c2a0",
   "metadata": {},
   "outputs": [
    {
     "data": {
      "text/plain": [
       "'Data science is an interdisciplinary academic field[1] that uses statistics, scientific computing, scientific methods, processes, algorithms and systems to extract or extrapolate knowledge and insights from noisy, structured, and unstructured data.[2]\\n\\nData science also integrates domain knowledge from the underlying application domain (e.g., natural sciences, information technology, and medicine).[3] Data science is multifaceted and can be described as a science, a research paradigm, a research method, a discipline, a workflow, and a profession.[4]\\n\\nData science is a \"concept to unify statistics, data analysis, informatics, and their related methods\" to \"understand and analyze actual phenomena\" with data.[5] It uses techniques and theories drawn from many fields within the context of mathematics, statistics, computer science, information science, and domain knowledge.[6] However, data science is different from computer science and information science. Turing Award winner Jim Gray imagined data science as a \"fourth paradigm\" of science (empirical, theoretical, computational, and now data-driven) and asserted that \"everything about science is changing because of the impact of information technology\" and the data deluge.[7][8]\\n\\nA data scientist is a professional who creates programming code and combines it with statistical knowledge to create insights from data.[9]\\n\\nFoundations\\nData science is an interdisciplinary field[10] focused on extracting knowledge from typically large data sets and applying the knowledge and insights from that data to solve problems in a wide range of application domains. The field encompasses preparing data for analysis, formulating data science problems, analyzing data, developing data-driven solutions, and presenting findings to inform high-level decisions in a broad range of application domains. As such, it incorporates skills from computer science, statistics, information science, mathematics, data visualization, information visualization, data sonification, data integration, graphic design, complex systems, communication and business.[11][12] Statistician Nathan Yau, drawing on Ben Fry, also links data science to human–computer interaction: users should be able to intuitively control and explore data.[13][14] In 2015, the American Statistical Association identified database management, statistics and machine learning, and distributed and parallel systems as the three emerging foundational professional communities.[15]'"
      ]
     },
     "execution_count": 21,
     "metadata": {},
     "output_type": "execute_result"
    }
   ],
   "source": [
    "TEXT\n"
   ]
  },
  {
   "cell_type": "code",
   "execution_count": 22,
   "id": "5f4e08fc",
   "metadata": {},
   "outputs": [
    {
     "data": {
      "text/plain": [
       "'{\"1\": {\"mcq\": \"multiple choice question\", \"options\": {\"a\": \"choice here\", \"b\": \"choice here\", \"c\": \"choice here\", \"d\": \"choice here\"}, \"correct\": \"correct answer\"}, \"2\": {\"mcq\": \"multiple choice question\", \"options\": {\"a\": \"choice here\", \"b\": \"choice here\", \"c\": \"choice here\", \"d\": \"choice here\"}, \"correct\": \"correct answer\"}, \"3\": {\"mcq\": \"multiple choice question\", \"options\": {\"a\": \"choice here\", \"b\": \"choice here\", \"c\": \"choice here\", \"d\": \"choice here\"}, \"correct\": \"correct answer\"}}'"
      ]
     },
     "execution_count": 22,
     "metadata": {},
     "output_type": "execute_result"
    }
   ],
   "source": [
    "# Serialize the Python dictionary into a JSON-formatted string\n",
    "json.dumps(RESPONSE_JSON)"
   ]
  },
  {
   "cell_type": "code",
   "execution_count": 23,
   "id": "c0a83c70",
   "metadata": {},
   "outputs": [
    {
     "data": {
      "text/plain": [
       "'mcq_count=5\\ngrade=1\\ntone=\"simple'"
      ]
     },
     "execution_count": 23,
     "metadata": {},
     "output_type": "execute_result"
    }
   ],
   "source": [
    "\"\"\"mcq_count=5\n",
    "grade=1\n",
    "tone=\"simple\"\"\""
   ]
  },
  {
   "cell_type": "code",
   "execution_count": 24,
   "metadata": {},
   "outputs": [],
   "source": [
    "NUMBER=5 \n",
    "SUBJECT=\"data science\"\n",
    "TONE=\"simple\"\n"
   ]
  },
  {
   "cell_type": "code",
   "execution_count": 25,
   "id": "dea3e2eb",
   "metadata": {},
   "outputs": [
    {
     "name": "stderr",
     "output_type": "stream",
     "text": [
      "/workspaces/Automated_MCQ_Generator/env/lib/python3.10/site-packages/langchain_core/_api/deprecation.py:139: LangChainDeprecationWarning: The method `Chain.__call__` was deprecated in langchain 0.1.0 and will be removed in 0.3.0. Use invoke instead.\n",
      "  warn_deprecated(\n"
     ]
    },
    {
     "name": "stdout",
     "output_type": "stream",
     "text": [
      "\n",
      "\n",
      "\u001b[1m> Entering new SequentialChain chain...\u001b[0m\n",
      "\n",
      "\n",
      "\u001b[1m> Entering new LLMChain chain...\u001b[0m\n",
      "Prompt after formatting:\n",
      "\u001b[32;1m\u001b[1;3m\n",
      "Text:Data science is an interdisciplinary academic field[1] that uses statistics, scientific computing, scientific methods, processes, algorithms and systems to extract or extrapolate knowledge and insights from noisy, structured, and unstructured data.[2]\n",
      "\n",
      "Data science also integrates domain knowledge from the underlying application domain (e.g., natural sciences, information technology, and medicine).[3] Data science is multifaceted and can be described as a science, a research paradigm, a research method, a discipline, a workflow, and a profession.[4]\n",
      "\n",
      "Data science is a \"concept to unify statistics, data analysis, informatics, and their related methods\" to \"understand and analyze actual phenomena\" with data.[5] It uses techniques and theories drawn from many fields within the context of mathematics, statistics, computer science, information science, and domain knowledge.[6] However, data science is different from computer science and information science. Turing Award winner Jim Gray imagined data science as a \"fourth paradigm\" of science (empirical, theoretical, computational, and now data-driven) and asserted that \"everything about science is changing because of the impact of information technology\" and the data deluge.[7][8]\n",
      "\n",
      "A data scientist is a professional who creates programming code and combines it with statistical knowledge to create insights from data.[9]\n",
      "\n",
      "Foundations\n",
      "Data science is an interdisciplinary field[10] focused on extracting knowledge from typically large data sets and applying the knowledge and insights from that data to solve problems in a wide range of application domains. The field encompasses preparing data for analysis, formulating data science problems, analyzing data, developing data-driven solutions, and presenting findings to inform high-level decisions in a broad range of application domains. As such, it incorporates skills from computer science, statistics, information science, mathematics, data visualization, information visualization, data sonification, data integration, graphic design, complex systems, communication and business.[11][12] Statistician Nathan Yau, drawing on Ben Fry, also links data science to human–computer interaction: users should be able to intuitively control and explore data.[13][14] In 2015, the American Statistical Association identified database management, statistics and machine learning, and distributed and parallel systems as the three emerging foundational professional communities.[15]\n",
      "You are an expert MCQ maker. Given the above text, it is your job to create a quiz  of 5 multiple choice questions for data science students in simple tone. \n",
      "Make sure the questions are not repeated and check all the questions to be conforming the text as well.\n",
      "Make sure to format your response like  RESPONSE_JSON below  and use it as a guide. Ensure to make 5 MCQs\n",
      "### RESPONSE_JSON\n",
      "{\"1\": {\"mcq\": \"multiple choice question\", \"options\": {\"a\": \"choice here\", \"b\": \"choice here\", \"c\": \"choice here\", \"d\": \"choice here\"}, \"correct\": \"correct answer\"}, \"2\": {\"mcq\": \"multiple choice question\", \"options\": {\"a\": \"choice here\", \"b\": \"choice here\", \"c\": \"choice here\", \"d\": \"choice here\"}, \"correct\": \"correct answer\"}, \"3\": {\"mcq\": \"multiple choice question\", \"options\": {\"a\": \"choice here\", \"b\": \"choice here\", \"c\": \"choice here\", \"d\": \"choice here\"}, \"correct\": \"correct answer\"}}\n",
      "\n",
      "\u001b[0m\n",
      "\n",
      "\u001b[1m> Finished chain.\u001b[0m\n",
      "\n",
      "\n",
      "\u001b[1m> Entering new LLMChain chain...\u001b[0m\n",
      "Prompt after formatting:\n",
      "\u001b[32;1m\u001b[1;3m\n",
      "You are an expert english grammarian and writer. Given a Multiple Choice Quiz for data science students.You need to evaluate the complexity of the question and give a complete analysis of the quiz. Only use at max 50 words for complexity analysis. \n",
      "if the quiz is not at per with the cognitive and analytical abilities of the students,update the quiz questions which needs to be changed and change the tone such that it perfectly fits the student abilities\n",
      "Quiz_MCQs:\n",
      "### RESPONSE_JSON\n",
      "{\"1\": {\"mcq\": \"What is data science?\", \"options\": {\"a\": \"A field that uses statistics and scientific methods to extract knowledge from data\", \"b\": \"A branch of mathematics that focuses on data analysis\", \"c\": \"A computer science discipline that deals with data management\", \"d\": \"A research method used in social sciences\"}, \"correct\": \"a\"}, \"2\": {\"mcq\": \"What fields contribute to data science?\", \"options\": {\"a\": \"Mathematics and statistics\", \"b\": \"Computer science and information science\", \"c\": \"Natural sciences and medicine\", \"d\": \"All of the above\"}, \"correct\": \"d\"}, \"3\": {\"mcq\": \"What is the role of a data scientist?\", \"options\": {\"a\": \"To create code and combine it with statistical knowledge\", \"b\": \"To design databases and manage data\", \"c\": \"To build websites and applications\", \"d\": \"To analyze data and provide insights\"}, \"correct\": \"a\"}, \"4\": {\"mcq\": \"What are the three emerging foundational professional communities in data science according to the American Statistical Association?\", \"options\": {\"a\": \"Database management, statistics, and machine learning\", \"b\": \"Computer science, mathematics, and information visualization\", \"c\": \"Data integration, data visualization, and graphic design\", \"d\": \"Communication, business, and human-computer interaction\"}, \"correct\": \"a\"}, \"5\": {\"mcq\": \"How is data science different from computer science and information science?\", \"options\": {\"a\": \"It focuses on data analysis and insights\", \"b\": \"It uses different programming languages\", \"c\": \"It requires a different skill set\", \"d\": \"It is not a recognized academic field\"}, \"correct\": \"a\"}}\n",
      "\n",
      "Check from an expert English Writer of the above quiz:\n",
      "\u001b[0m\n",
      "\n",
      "\u001b[1m> Finished chain.\u001b[0m\n",
      "\n",
      "\u001b[1m> Finished chain.\u001b[0m\n"
     ]
    }
   ],
   "source": [
    "#https://python.langchain.com/docs/modules/model_io/llms/token_usage_tracking\n",
    "\n",
    "#How to setup Token Usage Tracking in LangChain\n",
    "with get_openai_callback() as cb:\n",
    "    response=generate_evaluate_chain(\n",
    "        {\n",
    "            \"text\": TEXT,\n",
    "            \"number\": NUMBER,\n",
    "            \"subject\":SUBJECT,\n",
    "            \"tone\": TONE,\n",
    "            \"response_json\": json.dumps(RESPONSE_JSON)\n",
    "        }\n",
    "        )"
   ]
  },
  {
   "cell_type": "code",
   "execution_count": 26,
   "id": "1217c80f",
   "metadata": {},
   "outputs": [
    {
     "name": "stdout",
     "output_type": "stream",
     "text": [
      "Total Tokens:0\n",
      "Prompt Tokens:0\n",
      "Completion Tokens:0\n",
      "Total Cost:0.0\n"
     ]
    }
   ],
   "source": [
    "print(f\"Total Tokens:{cb.total_tokens}\")\n",
    "print(f\"Prompt Tokens:{cb.prompt_tokens}\")\n",
    "print(f\"Completion Tokens:{cb.completion_tokens}\")\n",
    "print(f\"Total Cost:{cb.total_cost}\")"
   ]
  },
  {
   "cell_type": "code",
   "execution_count": 27,
   "id": "081b7de5",
   "metadata": {},
   "outputs": [
    {
     "data": {
      "text/plain": [
       "{'text': 'Data science is an interdisciplinary academic field[1] that uses statistics, scientific computing, scientific methods, processes, algorithms and systems to extract or extrapolate knowledge and insights from noisy, structured, and unstructured data.[2]\\n\\nData science also integrates domain knowledge from the underlying application domain (e.g., natural sciences, information technology, and medicine).[3] Data science is multifaceted and can be described as a science, a research paradigm, a research method, a discipline, a workflow, and a profession.[4]\\n\\nData science is a \"concept to unify statistics, data analysis, informatics, and their related methods\" to \"understand and analyze actual phenomena\" with data.[5] It uses techniques and theories drawn from many fields within the context of mathematics, statistics, computer science, information science, and domain knowledge.[6] However, data science is different from computer science and information science. Turing Award winner Jim Gray imagined data science as a \"fourth paradigm\" of science (empirical, theoretical, computational, and now data-driven) and asserted that \"everything about science is changing because of the impact of information technology\" and the data deluge.[7][8]\\n\\nA data scientist is a professional who creates programming code and combines it with statistical knowledge to create insights from data.[9]\\n\\nFoundations\\nData science is an interdisciplinary field[10] focused on extracting knowledge from typically large data sets and applying the knowledge and insights from that data to solve problems in a wide range of application domains. The field encompasses preparing data for analysis, formulating data science problems, analyzing data, developing data-driven solutions, and presenting findings to inform high-level decisions in a broad range of application domains. As such, it incorporates skills from computer science, statistics, information science, mathematics, data visualization, information visualization, data sonification, data integration, graphic design, complex systems, communication and business.[11][12] Statistician Nathan Yau, drawing on Ben Fry, also links data science to human–computer interaction: users should be able to intuitively control and explore data.[13][14] In 2015, the American Statistical Association identified database management, statistics and machine learning, and distributed and parallel systems as the three emerging foundational professional communities.[15]',\n",
       " 'number': 5,\n",
       " 'subject': 'data science',\n",
       " 'tone': 'simple',\n",
       " 'response_json': '{\"1\": {\"mcq\": \"multiple choice question\", \"options\": {\"a\": \"choice here\", \"b\": \"choice here\", \"c\": \"choice here\", \"d\": \"choice here\"}, \"correct\": \"correct answer\"}, \"2\": {\"mcq\": \"multiple choice question\", \"options\": {\"a\": \"choice here\", \"b\": \"choice here\", \"c\": \"choice here\", \"d\": \"choice here\"}, \"correct\": \"correct answer\"}, \"3\": {\"mcq\": \"multiple choice question\", \"options\": {\"a\": \"choice here\", \"b\": \"choice here\", \"c\": \"choice here\", \"d\": \"choice here\"}, \"correct\": \"correct answer\"}}',\n",
       " 'quiz': '### RESPONSE_JSON\\n{\"1\": {\"mcq\": \"What is data science?\", \"options\": {\"a\": \"A field that uses statistics and scientific methods to extract knowledge from data\", \"b\": \"A branch of mathematics that focuses on data analysis\", \"c\": \"A computer science discipline that deals with data management\", \"d\": \"A research method used in social sciences\"}, \"correct\": \"a\"}, \"2\": {\"mcq\": \"What fields contribute to data science?\", \"options\": {\"a\": \"Mathematics and statistics\", \"b\": \"Computer science and information science\", \"c\": \"Natural sciences and medicine\", \"d\": \"All of the above\"}, \"correct\": \"d\"}, \"3\": {\"mcq\": \"What is the role of a data scientist?\", \"options\": {\"a\": \"To create code and combine it with statistical knowledge\", \"b\": \"To design databases and manage data\", \"c\": \"To build websites and applications\", \"d\": \"To analyze data and provide insights\"}, \"correct\": \"a\"}, \"4\": {\"mcq\": \"What are the three emerging foundational professional communities in data science according to the American Statistical Association?\", \"options\": {\"a\": \"Database management, statistics, and machine learning\", \"b\": \"Computer science, mathematics, and information visualization\", \"c\": \"Data integration, data visualization, and graphic design\", \"d\": \"Communication, business, and human-computer interaction\"}, \"correct\": \"a\"}, \"5\": {\"mcq\": \"How is data science different from computer science and information science?\", \"options\": {\"a\": \"It focuses on data analysis and insights\", \"b\": \"It uses different programming languages\", \"c\": \"It requires a different skill set\", \"d\": \"It is not a recognized academic field\"}, \"correct\": \"a\"}}',\n",
       " 'review': \"The quiz is well-structured and covers the key concepts of data science. The questions are clear and concise, and the options are well-written. The quiz is appropriate for data science students, as it tests their knowledge of the field and their ability to apply their knowledge to real-world scenarios.\\n\\nHowever, the quiz could be improved by making the questions more challenging. For example, question 1 could be revised to ask students to define data science in their own words. Question 2 could be revised to ask students to provide specific examples of how each of the fields listed contributes to data science. Question 3 could be revised to ask students to describe the different tasks that a data scientist might perform. Question 4 could be revised to ask students to discuss the pros and cons of each of the three emerging foundational professional communities in data science. Question 5 could be revised to ask students to explain how data science is different from computer science and information science in more detail.\\n\\nOverall, the quiz is a good starting point for assessing students' knowledge of data science. However, the quiz could be improved by making the questions more challenging.\"}"
      ]
     },
     "execution_count": 27,
     "metadata": {},
     "output_type": "execute_result"
    }
   ],
   "source": [
    "response"
   ]
  },
  {
   "cell_type": "code",
   "execution_count": 28,
   "id": "f7f44814",
   "metadata": {},
   "outputs": [],
   "source": [
    "quiz_str=response.get(\"quiz\")"
   ]
  },
  {
   "cell_type": "code",
   "execution_count": 29,
   "id": "d62c8c41",
   "metadata": {},
   "outputs": [
    {
     "name": "stdout",
     "output_type": "stream",
     "text": [
      "### RESPONSE_JSON\n",
      "{\"1\": {\"mcq\": \"What is data science?\", \"options\": {\"a\": \"A field that uses statistics and scientific methods to extract knowledge from data\", \"b\": \"A branch of mathematics that focuses on data analysis\", \"c\": \"A computer science discipline that deals with data management\", \"d\": \"A research method used in social sciences\"}, \"correct\": \"a\"}, \"2\": {\"mcq\": \"What fields contribute to data science?\", \"options\": {\"a\": \"Mathematics and statistics\", \"b\": \"Computer science and information science\", \"c\": \"Natural sciences and medicine\", \"d\": \"All of the above\"}, \"correct\": \"d\"}, \"3\": {\"mcq\": \"What is the role of a data scientist?\", \"options\": {\"a\": \"To create code and combine it with statistical knowledge\", \"b\": \"To design databases and manage data\", \"c\": \"To build websites and applications\", \"d\": \"To analyze data and provide insights\"}, \"correct\": \"a\"}, \"4\": {\"mcq\": \"What are the three emerging foundational professional communities in data science according to the American Statistical Association?\", \"options\": {\"a\": \"Database management, statistics, and machine learning\", \"b\": \"Computer science, mathematics, and information visualization\", \"c\": \"Data integration, data visualization, and graphic design\", \"d\": \"Communication, business, and human-computer interaction\"}, \"correct\": \"a\"}, \"5\": {\"mcq\": \"How is data science different from computer science and information science?\", \"options\": {\"a\": \"It focuses on data analysis and insights\", \"b\": \"It uses different programming languages\", \"c\": \"It requires a different skill set\", \"d\": \"It is not a recognized academic field\"}, \"correct\": \"a\"}}\n"
     ]
    }
   ],
   "source": [
    "print(quiz_str)"
   ]
  },
  {
   "cell_type": "code",
   "execution_count": 30,
   "id": "69ba8d51",
   "metadata": {},
   "outputs": [],
   "source": [
    "quiz_str = quiz_str.split(\"### RESPONSE_JSON\")[1].strip()"
   ]
  },
  {
   "cell_type": "code",
   "execution_count": 31,
   "id": "8ccab8cd",
   "metadata": {},
   "outputs": [
    {
     "data": {
      "text/plain": [
       "'{\"1\": {\"mcq\": \"What is data science?\", \"options\": {\"a\": \"A field that uses statistics and scientific methods to extract knowledge from data\", \"b\": \"A branch of mathematics that focuses on data analysis\", \"c\": \"A computer science discipline that deals with data management\", \"d\": \"A research method used in social sciences\"}, \"correct\": \"a\"}, \"2\": {\"mcq\": \"What fields contribute to data science?\", \"options\": {\"a\": \"Mathematics and statistics\", \"b\": \"Computer science and information science\", \"c\": \"Natural sciences and medicine\", \"d\": \"All of the above\"}, \"correct\": \"d\"}, \"3\": {\"mcq\": \"What is the role of a data scientist?\", \"options\": {\"a\": \"To create code and combine it with statistical knowledge\", \"b\": \"To design databases and manage data\", \"c\": \"To build websites and applications\", \"d\": \"To analyze data and provide insights\"}, \"correct\": \"a\"}, \"4\": {\"mcq\": \"What are the three emerging foundational professional communities in data science according to the American Statistical Association?\", \"options\": {\"a\": \"Database management, statistics, and machine learning\", \"b\": \"Computer science, mathematics, and information visualization\", \"c\": \"Data integration, data visualization, and graphic design\", \"d\": \"Communication, business, and human-computer interaction\"}, \"correct\": \"a\"}, \"5\": {\"mcq\": \"How is data science different from computer science and information science?\", \"options\": {\"a\": \"It focuses on data analysis and insights\", \"b\": \"It uses different programming languages\", \"c\": \"It requires a different skill set\", \"d\": \"It is not a recognized academic field\"}, \"correct\": \"a\"}}'"
      ]
     },
     "execution_count": 31,
     "metadata": {},
     "output_type": "execute_result"
    }
   ],
   "source": [
    "quiz_str"
   ]
  },
  {
   "cell_type": "code",
   "execution_count": 32,
   "id": "01d7a6f5",
   "metadata": {},
   "outputs": [],
   "source": [
    "quiz = json.loads(quiz_str)"
   ]
  },
  {
   "cell_type": "code",
   "execution_count": 33,
   "id": "d5bf8fee",
   "metadata": {},
   "outputs": [
    {
     "name": "stdout",
     "output_type": "stream",
     "text": [
      "{'1': {'mcq': 'What is data science?', 'options': {'a': 'A field that uses statistics and scientific methods to extract knowledge from data', 'b': 'A branch of mathematics that focuses on data analysis', 'c': 'A computer science discipline that deals with data management', 'd': 'A research method used in social sciences'}, 'correct': 'a'}, '2': {'mcq': 'What fields contribute to data science?', 'options': {'a': 'Mathematics and statistics', 'b': 'Computer science and information science', 'c': 'Natural sciences and medicine', 'd': 'All of the above'}, 'correct': 'd'}, '3': {'mcq': 'What is the role of a data scientist?', 'options': {'a': 'To create code and combine it with statistical knowledge', 'b': 'To design databases and manage data', 'c': 'To build websites and applications', 'd': 'To analyze data and provide insights'}, 'correct': 'a'}, '4': {'mcq': 'What are the three emerging foundational professional communities in data science according to the American Statistical Association?', 'options': {'a': 'Database management, statistics, and machine learning', 'b': 'Computer science, mathematics, and information visualization', 'c': 'Data integration, data visualization, and graphic design', 'd': 'Communication, business, and human-computer interaction'}, 'correct': 'a'}, '5': {'mcq': 'How is data science different from computer science and information science?', 'options': {'a': 'It focuses on data analysis and insights', 'b': 'It uses different programming languages', 'c': 'It requires a different skill set', 'd': 'It is not a recognized academic field'}, 'correct': 'a'}}\n"
     ]
    }
   ],
   "source": [
    "print(quiz)"
   ]
  },
  {
   "cell_type": "code",
   "execution_count": 34,
   "id": "0d302c99",
   "metadata": {},
   "outputs": [],
   "source": [
    "quiz_table_data = []\n",
    "for key, value in quiz.items():\n",
    "    mcq = value[\"mcq\"]\n",
    "    options = \" | \".join(\n",
    "        [\n",
    "            f\"{option}: {option_value}\"\n",
    "            for option, option_value in value[\"options\"].items()\n",
    "            ]\n",
    "        )\n",
    "    correct = value[\"correct\"]\n",
    "    quiz_table_data.append({\"MCQ\": mcq, \"Choices\": options, \"Correct\": correct})"
   ]
  },
  {
   "cell_type": "code",
   "execution_count": 35,
   "id": "3f4ff8d8",
   "metadata": {},
   "outputs": [
    {
     "data": {
      "text/plain": [
       "[{'MCQ': 'What is data science?',\n",
       "  'Choices': 'a: A field that uses statistics and scientific methods to extract knowledge from data | b: A branch of mathematics that focuses on data analysis | c: A computer science discipline that deals with data management | d: A research method used in social sciences',\n",
       "  'Correct': 'a'},\n",
       " {'MCQ': 'What fields contribute to data science?',\n",
       "  'Choices': 'a: Mathematics and statistics | b: Computer science and information science | c: Natural sciences and medicine | d: All of the above',\n",
       "  'Correct': 'd'},\n",
       " {'MCQ': 'What is the role of a data scientist?',\n",
       "  'Choices': 'a: To create code and combine it with statistical knowledge | b: To design databases and manage data | c: To build websites and applications | d: To analyze data and provide insights',\n",
       "  'Correct': 'a'},\n",
       " {'MCQ': 'What are the three emerging foundational professional communities in data science according to the American Statistical Association?',\n",
       "  'Choices': 'a: Database management, statistics, and machine learning | b: Computer science, mathematics, and information visualization | c: Data integration, data visualization, and graphic design | d: Communication, business, and human-computer interaction',\n",
       "  'Correct': 'a'},\n",
       " {'MCQ': 'How is data science different from computer science and information science?',\n",
       "  'Choices': 'a: It focuses on data analysis and insights | b: It uses different programming languages | c: It requires a different skill set | d: It is not a recognized academic field',\n",
       "  'Correct': 'a'}]"
      ]
     },
     "execution_count": 35,
     "metadata": {},
     "output_type": "execute_result"
    }
   ],
   "source": [
    "quiz_table_data"
   ]
  },
  {
   "cell_type": "code",
   "execution_count": 36,
   "id": "4e4b5798",
   "metadata": {},
   "outputs": [],
   "source": [
    "df=pd.DataFrame(quiz_table_data)"
   ]
  },
  {
   "cell_type": "code",
   "execution_count": 37,
   "id": "93fae6a1",
   "metadata": {},
   "outputs": [
    {
     "data": {
      "text/html": [
       "<div>\n",
       "<style scoped>\n",
       "    .dataframe tbody tr th:only-of-type {\n",
       "        vertical-align: middle;\n",
       "    }\n",
       "\n",
       "    .dataframe tbody tr th {\n",
       "        vertical-align: top;\n",
       "    }\n",
       "\n",
       "    .dataframe thead th {\n",
       "        text-align: right;\n",
       "    }\n",
       "</style>\n",
       "<table border=\"1\" class=\"dataframe\">\n",
       "  <thead>\n",
       "    <tr style=\"text-align: right;\">\n",
       "      <th></th>\n",
       "      <th>MCQ</th>\n",
       "      <th>Choices</th>\n",
       "      <th>Correct</th>\n",
       "    </tr>\n",
       "  </thead>\n",
       "  <tbody>\n",
       "    <tr>\n",
       "      <th>0</th>\n",
       "      <td>What is data science?</td>\n",
       "      <td>a: A field that uses statistics and scientific...</td>\n",
       "      <td>a</td>\n",
       "    </tr>\n",
       "    <tr>\n",
       "      <th>1</th>\n",
       "      <td>What fields contribute to data science?</td>\n",
       "      <td>a: Mathematics and statistics | b: Computer sc...</td>\n",
       "      <td>d</td>\n",
       "    </tr>\n",
       "    <tr>\n",
       "      <th>2</th>\n",
       "      <td>What is the role of a data scientist?</td>\n",
       "      <td>a: To create code and combine it with statisti...</td>\n",
       "      <td>a</td>\n",
       "    </tr>\n",
       "    <tr>\n",
       "      <th>3</th>\n",
       "      <td>What are the three emerging foundational profe...</td>\n",
       "      <td>a: Database management, statistics, and machin...</td>\n",
       "      <td>a</td>\n",
       "    </tr>\n",
       "    <tr>\n",
       "      <th>4</th>\n",
       "      <td>How is data science different from computer sc...</td>\n",
       "      <td>a: It focuses on data analysis and insights | ...</td>\n",
       "      <td>a</td>\n",
       "    </tr>\n",
       "  </tbody>\n",
       "</table>\n",
       "</div>"
      ],
      "text/plain": [
       "                                                 MCQ  \\\n",
       "0                              What is data science?   \n",
       "1            What fields contribute to data science?   \n",
       "2              What is the role of a data scientist?   \n",
       "3  What are the three emerging foundational profe...   \n",
       "4  How is data science different from computer sc...   \n",
       "\n",
       "                                             Choices Correct  \n",
       "0  a: A field that uses statistics and scientific...       a  \n",
       "1  a: Mathematics and statistics | b: Computer sc...       d  \n",
       "2  a: To create code and combine it with statisti...       a  \n",
       "3  a: Database management, statistics, and machin...       a  \n",
       "4  a: It focuses on data analysis and insights | ...       a  "
      ]
     },
     "execution_count": 37,
     "metadata": {},
     "output_type": "execute_result"
    }
   ],
   "source": [
    "df"
   ]
  },
  {
   "cell_type": "code",
   "execution_count": 38,
   "id": "eec54f0d",
   "metadata": {},
   "outputs": [],
   "source": [
    "df.to_csv(\"Data_Science_Quiz.csv\",index=False)"
   ]
  },
  {
   "cell_type": "code",
   "execution_count": 39,
   "id": "a38268f3",
   "metadata": {},
   "outputs": [
    {
     "name": "stderr",
     "output_type": "stream",
     "text": [
      "Traceback (most recent call last):\n",
      "  File \"/tmp/ipykernel_34978/2720247763.py\", line 3, in <module>\n",
      "    c=1/0\n",
      "ZeroDivisionError: division by zero\n"
     ]
    }
   ],
   "source": [
    "import traceback\n",
    "try:\n",
    "    c=1/0\n",
    "except Exception as e:\n",
    "        traceback.print_exception(type(e), e, e.__traceback__)"
   ]
  },
  {
   "cell_type": "code",
   "execution_count": 40,
   "id": "8e00aa40",
   "metadata": {},
   "outputs": [],
   "source": [
    "import traceback\n",
    "try:\n",
    "    c=1/0\n",
    "except Exception as e:\n",
    "    tb=e.__traceback__"
   ]
  },
  {
   "cell_type": "code",
   "execution_count": 41,
   "id": "5ff07add",
   "metadata": {},
   "outputs": [
    {
     "name": "stdout",
     "output_type": "stream",
     "text": [
      "File '/tmp/ipykernel_34978/977600961.py', line 5, in <module>\n"
     ]
    }
   ],
   "source": [
    "while tb is not None:\n",
    "    frame = tb.tb_frame\n",
    "    filename = frame.f_code.co_filename\n",
    "    lineno = frame.f_lineno\n",
    "    function_name = frame.f_code.co_name\n",
    "\n",
    "    print(f\"File '{filename}', line {lineno}, in {function_name}\")\n",
    "    tb = tb.tb_next  # Move to the next frame in the traceback"
   ]
  },
  {
   "cell_type": "code",
   "execution_count": null,
   "id": "37a4497d",
   "metadata": {},
   "outputs": [],
   "source": []
  }
 ],
 "metadata": {
  "kernelspec": {
   "display_name": "Python 3 (ipykernel)",
   "language": "python",
   "name": "python3"
  },
  "language_info": {
   "codemirror_mode": {
    "name": "ipython",
    "version": 3
   },
   "file_extension": ".py",
   "mimetype": "text/x-python",
   "name": "python",
   "nbconvert_exporter": "python",
   "pygments_lexer": "ipython3",
   "version": "3.10.14"
  }
 },
 "nbformat": 4,
 "nbformat_minor": 5
}
